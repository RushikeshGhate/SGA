{
  "nbformat": 4,
  "nbformat_minor": 0,
  "metadata": {
    "colab": {
      "name": "Selenium Scraping",
      "private_outputs": true,
      "provenance": [],
      "collapsed_sections": [],
      "authorship_tag": "ABX9TyOiA9xiEZbrWbKp53HhLqkq",
      "include_colab_link": true
    },
    "kernelspec": {
      "name": "python3",
      "display_name": "Python 3"
    },
    "language_info": {
      "name": "python"
    }
  },
  "cells": [
    {
      "cell_type": "markdown",
      "metadata": {
        "id": "view-in-github",
        "colab_type": "text"
      },
      "source": [
        "<a href=\"https://colab.research.google.com/github/RushikeshGhate/SGA/blob/main/Selenium_Scraping.ipynb\" target=\"_parent\"><img src=\"https://colab.research.google.com/assets/colab-badge.svg\" alt=\"Open In Colab\"/></a>"
      ]
    },
    {
      "cell_type": "code",
      "metadata": {
        "id": "Yf_PaEVnGGmS"
      },
      "source": [
        "# -*- coding: utf-8 -*-\n",
        "\"\"\"\n",
        "Created on Thu May 27 17:38:12 2021\n",
        "\n",
        "@author: ASUS\n",
        "\"\"\"\n",

        "from selenium import webdriver\n",
        "options = webdriver.ChromeOptions()\n",
        "options.add_argument('--headless')\n",
        "options.add_argument('--no-sandbox')\n",
        "options.add_argument('--disable-dev-shm-usage')\n",
        "# open it, go to a website, and get results\n",
        "driver = webdriver.Chrome('chromedriver',options=options)\n",
        "driver.get(\"https://fullforms.com/\")\n",
        "\n",
        "\n",
        "from tqdm import tqdm\n",
        "import pandas as pd\n",
        "from selenium import webdriver\n",
        "from selenium.webdriver.common.keys import Keys\n",
        "from selenium.webdriver.support import expected_conditions as EC\n",
        "from selenium.webdriver.common.by import By\n",
        "from selenium.webdriver.support.wait import WebDriverWait\n",
        "import time\n",
        "#driver.get(\"https://fullforms.com/\")\n",
        "#driver.maximize_window()\n",
        " \n",
        "df=pd.DataFrame(columns=['Popularity','Region','Term','Fullform','MainCategory'])\n",
        "a_button = driver.find_element_by_xpath('//html/body/div[1]/div/div/ul/li[1]/a')\n",
        "a_button.click()\n",
        "letters = ['A','B','C','D','E','F','G','H','I','J','K','L','M','N','O','P','Q','R','S','T','U','V','W','X','Y','Z']\n",
        "\n",
        "Popularity=[]\n",
        "Region=[]\n",
        "Term=[]\n",
        "Fullform=[]\n",
        "MainCategory=[]\n",
        "for p in letters:\n",
        "    for number in tqdm(range(1,90)):\n",
        "        url = (f'https://fullforms.com/full-forms/{p}/{number}')\n",
        "        driver.get(url)\n",
        "        pop = driver.find_elements_by_class_name(\"tP\")[1:]\n",
        "        reg = driver.find_elements_by_class_name(\"tC\")[1:]\n",
        "        terms = driver.find_elements_by_xpath(\"//html/body/div[3]/div[1]/table/tbody/tr/td[3]\")\n",
        "        fdm = driver.find_elements_by_xpath(\"//html/body/div[3]/div[1]/table/tbody/tr/td[4]\")\n",
        "        maincat = driver.find_elements_by_xpath(\"//html/body/div[3]/div[1]/table/tbody/tr/td[5]\")\n",
        "        [Region.append(i.get_attribute('innerHTML').split('alt=')[1].replace('>','').replace('\\\"','')) for i in reg]\n",
        "        [Popularity.append(j.get_attribute('innerHTML').strip().split(':')[1].split('\"')[0]) for j in pop]\n",
        "        [Term.append(i.text) for i in terms]\n",
        "        [Fullform.append(j.text) for j in fdm]\n",
        "        [MainCategory.append(k.text) for k in maincat]\n",
        "        joins = {'Popularity':Popularity,\n",
        "                 'Region':Region,\n",
        "                 'Term/Aphabate':Term,\n",
        "                 'Fullform/Meaning':Fullform,\n",
        "                 'MainCategory':MainCategory}\n",
        "\n",
        "        df = pd.DataFrame(joins)\n",
        "        df.to_csv('FullformsUp.csv')\n",
        " \n",
        "    \n",
        "    \n"
      ],
      "execution_count": null,
      "outputs": []
    },
    {
      "cell_type": "code",
      "metadata": {
        "id": "HIWyD0_LIOYF"
      },
      "source": [
        ""
      ],
      "execution_count": null,
      "outputs": []
    }
  ]
}
